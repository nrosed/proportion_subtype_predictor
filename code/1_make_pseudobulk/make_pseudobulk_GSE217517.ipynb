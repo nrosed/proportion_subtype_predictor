{
 "cells": [
  {
   "cell_type": "markdown",
   "metadata": {},
   "source": [
    "# Make pseudobulks\n"
   ]
  },
  {
   "cell_type": "markdown",
   "metadata": {},
   "source": [
    "# Imports"
   ]
  },
  {
   "cell_type": "code",
   "execution_count": 1,
   "metadata": {},
   "outputs": [
    {
     "name": "stderr",
     "output_type": "stream",
     "text": [
      "WARNING:absl:At this time, the v2.11+ optimizer `tf.keras.optimizers.Adam` runs slowly on M1/M2 Macs, please use the legacy TF-Keras optimizer instead, located at `tf.keras.optimizers.legacy.Adam`.\n",
      "WARNING:absl:At this time, the v2.11+ optimizer `tf.keras.optimizers.Adam` runs slowly on M1/M2 Macs, please use the legacy TF-Keras optimizer instead, located at `tf.keras.optimizers.legacy.Adam`.\n"
     ]
    }
   ],
   "source": [
    "import sys\n",
    "from buddi import buddi\n",
    "from buddi.preprocessing import sc_preprocess\n",
    "\n",
    "\n",
    "# general imports\n",
    "import warnings\n",
    "import numpy as np\n",
    "import os\n",
    "import pandas as pd\n",
    "import scipy as sp\n",
    "from scipy.sparse import coo_matrix\n",
    "import collections\n",
    "import scanpy as sc\n",
    "import anndata as ad\n",
    "\n",
    "\n",
    "# Images, plots, display, and visualization\n",
    "import matplotlib.pyplot as plt\n",
    "import pandas as pd\n",
    "import seaborn as sns\n",
    "from sklearn.manifold import TSNE\n",
    "import sklearn as sk\n",
    "\n",
    "# matplotlib settings for Jupyter notebooks only\n",
    "%matplotlib inline\n",
    "\n",
    "import pickle\n",
    "import gzip\n",
    "from pathlib import Path\n"
   ]
  },
  {
   "cell_type": "markdown",
   "metadata": {},
   "source": [
    "# Parameters"
   ]
  },
  {
   "cell_type": "code",
   "execution_count": 2,
   "metadata": {},
   "outputs": [],
   "source": [
    "# parameters\n",
    "\n",
    "aug_data_path = f\"{os.getcwd()}/../data/single_cell/augmented/\"\n",
    "cibersort_path = f\"{os.getcwd()}/../data/single_cell/cibersort/\"\n",
    "data_path = f\"{os.getcwd()}/../data/single_cell/\"\n",
    "\n",
    "\n",
    "\n",
    "#####################\n",
    "### set the study ###\n",
    "#####################\n",
    "\n",
    "res_name = \"all-granular\" # cellType subtype celltype_granular\n",
    "\n",
    "celltype_name = \"celltype_granular\"\n",
    "\n",
    "in_name = \"HGSCsubtype_processed\"\n",
    "processed_sc_file = f\"{data_path}/{in_name}.h5ad\"\n",
    "\n"
   ]
  },
  {
   "cell_type": "markdown",
   "metadata": {},
   "source": [
    "# Load and Process data"
   ]
  },
  {
   "cell_type": "markdown",
   "metadata": {},
   "source": [
    "### Read in data and metadata"
   ]
  },
  {
   "cell_type": "code",
   "execution_count": 3,
   "metadata": {},
   "outputs": [],
   "source": [
    "# read in the data\n",
    "\n",
    "adata = sc.read_h5ad(processed_sc_file)\n",
    "\n",
    "adata.var_names_make_unique()  # this is unnecessary if using `var_names='gene_ids'` in `sc.read_10x_mtx`\n",
    "\n"
   ]
  },
  {
   "cell_type": "code",
   "execution_count": 4,
   "metadata": {},
   "outputs": [],
   "source": [
    "\n",
    "# get the columns we need to iterate over for making pseudobulks\n",
    "adata.obs['scpred_CellType'] = adata.obs[celltype_name].tolist()\n",
    "\n",
    "adata.obs['stim'] = \"CTRL\"\n",
    "\n",
    "# make the gene_ids col\n",
    "adata.var['gene_ids'] = adata.var.index.tolist()\n",
    "\n",
    "# we use everything as training\n",
    "adata.obs[\"isTraining\"] = \"Train\""
   ]
  },
  {
   "cell_type": "code",
   "execution_count": 5,
   "metadata": {},
   "outputs": [
    {
     "data": {
      "text/plain": [
       "{'immune', 'stromal', 'tumor'}"
      ]
     },
     "execution_count": 5,
     "metadata": {},
     "output_type": "execute_result"
    }
   ],
   "source": [
    "set(adata.obs['scpred_CellType'])"
   ]
  },
  {
   "cell_type": "markdown",
   "metadata": {},
   "source": [
    "### look at some data stats"
   ]
  },
  {
   "cell_type": "code",
   "execution_count": 6,
   "metadata": {},
   "outputs": [
    {
     "name": "stderr",
     "output_type": "stream",
     "text": [
      "/var/folders/64/dljh4z4j4vq9yn4f7wkb2k1h0000gp/T/ipykernel_2089/2091306592.py:2: FutureWarning: The default of observed=False is deprecated and will be changed to True in a future version of pandas. Pass observed=False to retain current behavior or observed=True to adopt the future default and silence this warning.\n",
      "  tab = adata.obs.groupby(['sample_id', 'stim']).size()\n"
     ]
    },
    {
     "data": {
      "text/html": [
       "<div>\n",
       "<style scoped>\n",
       "    .dataframe tbody tr th:only-of-type {\n",
       "        vertical-align: middle;\n",
       "    }\n",
       "\n",
       "    .dataframe tbody tr th {\n",
       "        vertical-align: top;\n",
       "    }\n",
       "\n",
       "    .dataframe thead th {\n",
       "        text-align: right;\n",
       "    }\n",
       "</style>\n",
       "<table border=\"1\" class=\"dataframe\">\n",
       "  <thead>\n",
       "    <tr style=\"text-align: right;\">\n",
       "      <th>stim</th>\n",
       "      <th>CTRL</th>\n",
       "    </tr>\n",
       "    <tr>\n",
       "      <th>sample_id</th>\n",
       "      <th></th>\n",
       "    </tr>\n",
       "  </thead>\n",
       "  <tbody>\n",
       "    <tr>\n",
       "      <th>Samp_2251</th>\n",
       "      <td>6819</td>\n",
       "    </tr>\n",
       "    <tr>\n",
       "      <th>Samp_2293</th>\n",
       "      <td>7734</td>\n",
       "    </tr>\n",
       "    <tr>\n",
       "      <th>Samp_2380</th>\n",
       "      <td>4732</td>\n",
       "    </tr>\n",
       "    <tr>\n",
       "      <th>Samp_2467</th>\n",
       "      <td>5161</td>\n",
       "    </tr>\n",
       "    <tr>\n",
       "      <th>Samp_2497</th>\n",
       "      <td>7208</td>\n",
       "    </tr>\n",
       "  </tbody>\n",
       "</table>\n",
       "</div>"
      ],
      "text/plain": [
       "stim       CTRL\n",
       "sample_id      \n",
       "Samp_2251  6819\n",
       "Samp_2293  7734\n",
       "Samp_2380  4732\n",
       "Samp_2467  5161\n",
       "Samp_2497  7208"
      ]
     },
     "execution_count": 6,
     "metadata": {},
     "output_type": "execute_result"
    }
   ],
   "source": [
    "# each sample should only have cells in with \"STIM\" or \"CTRL\"\n",
    "tab = adata.obs.groupby(['sample_id', 'stim']).size()\n",
    "tab.unstack()"
   ]
  },
  {
   "cell_type": "code",
   "execution_count": 7,
   "metadata": {},
   "outputs": [
    {
     "data": {
      "text/plain": [
       "scpred_CellType\n",
       "immune     19105\n",
       "stromal    10250\n",
       "tumor       2299\n",
       "Name: count, dtype: int64"
      ]
     },
     "execution_count": 7,
     "metadata": {},
     "output_type": "execute_result"
    }
   ],
   "source": [
    "# see how many cells per cell type\n",
    "adata.obs[\"scpred_CellType\"].value_counts()\n"
   ]
  },
  {
   "cell_type": "markdown",
   "metadata": {},
   "source": [
    "# Make pseudobulks"
   ]
  },
  {
   "cell_type": "code",
   "execution_count": 8,
   "metadata": {},
   "outputs": [
    {
     "name": "stdout",
     "output_type": "stream",
     "text": [
      "running Samp_2251 CTRL Train\n",
      "make_prop_and_sum\n",
      "0\n",
      "100\n",
      "200\n",
      "300\n",
      "400\n",
      "500\n",
      "600\n",
      "700\n",
      "800\n",
      "900\n",
      "1000\n",
      "get_single_celltype_prop_matrix\n",
      "use_prop_make_sum\n",
      "0\n"
     ]
    },
    {
     "name": "stderr",
     "output_type": "stream",
     "text": [
      "/Users/davidnat/Documents/projects/greenelab/buddi/buddi/preprocessing/sc_preprocess.py:254: FutureWarning: The behavior of DataFrame concatenation with empty or all-NA entries is deprecated. In a future version, this will no longer exclude empty or all-NA columns when determining the result dtypes. To retain the old behavior, exclude the relevant entries before the concat operation.\n",
      "  total_prop = pd.concat([total_prop, props])\n",
      "/Users/davidnat/Documents/projects/greenelab/buddi/buddi/preprocessing/sc_preprocess.py:209: FutureWarning: The behavior of DataFrame concatenation with empty or all-NA entries is deprecated. In a future version, this will no longer exclude empty or all-NA columns when determining the result dtypes. To retain the old behavior, exclude the relevant entries before the concat operation.\n",
      "  total_prop = pd.concat([total_prop, curr_cell_prop_df])\n",
      "/Users/davidnat/Documents/projects/greenelab/buddi/buddi/preprocessing/sc_preprocess.py:254: FutureWarning: The behavior of DataFrame concatenation with empty or all-NA entries is deprecated. In a future version, this will no longer exclude empty or all-NA columns when determining the result dtypes. To retain the old behavior, exclude the relevant entries before the concat operation.\n",
      "  total_prop = pd.concat([total_prop, props])\n",
      "/Users/davidnat/Documents/projects/greenelab/buddi/buddi/preprocessing/sc_preprocess.py:254: FutureWarning: The behavior of DataFrame concatenation with empty or all-NA entries is deprecated. In a future version, this will no longer exclude empty or all-NA columns when determining the result dtypes. To retain the old behavior, exclude the relevant entries before the concat operation.\n",
      "  total_prop = pd.concat([total_prop, props])\n"
     ]
    },
    {
     "name": "stdout",
     "output_type": "stream",
     "text": [
      "100\n",
      "200\n",
      "concat\n",
      "write\n",
      "running Samp_2293 CTRL Train\n",
      "make_prop_and_sum\n",
      "0\n",
      "100\n",
      "200\n",
      "300\n",
      "400\n",
      "500\n",
      "600\n",
      "700\n",
      "800\n",
      "900\n",
      "1000\n",
      "get_single_celltype_prop_matrix\n",
      "use_prop_make_sum\n",
      "0\n"
     ]
    },
    {
     "name": "stderr",
     "output_type": "stream",
     "text": [
      "/Users/davidnat/Documents/projects/greenelab/buddi/buddi/preprocessing/sc_preprocess.py:254: FutureWarning: The behavior of DataFrame concatenation with empty or all-NA entries is deprecated. In a future version, this will no longer exclude empty or all-NA columns when determining the result dtypes. To retain the old behavior, exclude the relevant entries before the concat operation.\n",
      "  total_prop = pd.concat([total_prop, props])\n",
      "/Users/davidnat/Documents/projects/greenelab/buddi/buddi/preprocessing/sc_preprocess.py:209: FutureWarning: The behavior of DataFrame concatenation with empty or all-NA entries is deprecated. In a future version, this will no longer exclude empty or all-NA columns when determining the result dtypes. To retain the old behavior, exclude the relevant entries before the concat operation.\n",
      "  total_prop = pd.concat([total_prop, curr_cell_prop_df])\n",
      "/Users/davidnat/Documents/projects/greenelab/buddi/buddi/preprocessing/sc_preprocess.py:254: FutureWarning: The behavior of DataFrame concatenation with empty or all-NA entries is deprecated. In a future version, this will no longer exclude empty or all-NA columns when determining the result dtypes. To retain the old behavior, exclude the relevant entries before the concat operation.\n",
      "  total_prop = pd.concat([total_prop, props])\n",
      "/Users/davidnat/Documents/projects/greenelab/buddi/buddi/preprocessing/sc_preprocess.py:254: FutureWarning: The behavior of DataFrame concatenation with empty or all-NA entries is deprecated. In a future version, this will no longer exclude empty or all-NA columns when determining the result dtypes. To retain the old behavior, exclude the relevant entries before the concat operation.\n",
      "  total_prop = pd.concat([total_prop, props])\n"
     ]
    },
    {
     "name": "stdout",
     "output_type": "stream",
     "text": [
      "100\n",
      "200\n",
      "concat\n",
      "write\n",
      "running Samp_2380 CTRL Train\n",
      "make_prop_and_sum\n",
      "0\n",
      "100\n",
      "200\n",
      "300\n",
      "400\n",
      "500\n",
      "600\n",
      "700\n",
      "800\n",
      "900\n",
      "1000\n",
      "get_single_celltype_prop_matrix\n",
      "use_prop_make_sum\n",
      "0\n"
     ]
    },
    {
     "name": "stderr",
     "output_type": "stream",
     "text": [
      "/Users/davidnat/Documents/projects/greenelab/buddi/buddi/preprocessing/sc_preprocess.py:254: FutureWarning: The behavior of DataFrame concatenation with empty or all-NA entries is deprecated. In a future version, this will no longer exclude empty or all-NA columns when determining the result dtypes. To retain the old behavior, exclude the relevant entries before the concat operation.\n",
      "  total_prop = pd.concat([total_prop, props])\n",
      "/Users/davidnat/Documents/projects/greenelab/buddi/buddi/preprocessing/sc_preprocess.py:209: FutureWarning: The behavior of DataFrame concatenation with empty or all-NA entries is deprecated. In a future version, this will no longer exclude empty or all-NA columns when determining the result dtypes. To retain the old behavior, exclude the relevant entries before the concat operation.\n",
      "  total_prop = pd.concat([total_prop, curr_cell_prop_df])\n",
      "/Users/davidnat/Documents/projects/greenelab/buddi/buddi/preprocessing/sc_preprocess.py:254: FutureWarning: The behavior of DataFrame concatenation with empty or all-NA entries is deprecated. In a future version, this will no longer exclude empty or all-NA columns when determining the result dtypes. To retain the old behavior, exclude the relevant entries before the concat operation.\n",
      "  total_prop = pd.concat([total_prop, props])\n",
      "/Users/davidnat/Documents/projects/greenelab/buddi/buddi/preprocessing/sc_preprocess.py:254: FutureWarning: The behavior of DataFrame concatenation with empty or all-NA entries is deprecated. In a future version, this will no longer exclude empty or all-NA columns when determining the result dtypes. To retain the old behavior, exclude the relevant entries before the concat operation.\n",
      "  total_prop = pd.concat([total_prop, props])\n"
     ]
    },
    {
     "name": "stdout",
     "output_type": "stream",
     "text": [
      "100\n",
      "200\n",
      "concat\n",
      "write\n",
      "running Samp_2467 CTRL Train\n",
      "make_prop_and_sum\n",
      "0\n",
      "100\n",
      "200\n",
      "300\n",
      "400\n",
      "500\n",
      "600\n",
      "700\n",
      "800\n",
      "900\n",
      "1000\n",
      "get_single_celltype_prop_matrix\n",
      "use_prop_make_sum\n",
      "0\n"
     ]
    },
    {
     "name": "stderr",
     "output_type": "stream",
     "text": [
      "/Users/davidnat/Documents/projects/greenelab/buddi/buddi/preprocessing/sc_preprocess.py:254: FutureWarning: The behavior of DataFrame concatenation with empty or all-NA entries is deprecated. In a future version, this will no longer exclude empty or all-NA columns when determining the result dtypes. To retain the old behavior, exclude the relevant entries before the concat operation.\n",
      "  total_prop = pd.concat([total_prop, props])\n",
      "/Users/davidnat/Documents/projects/greenelab/buddi/buddi/preprocessing/sc_preprocess.py:209: FutureWarning: The behavior of DataFrame concatenation with empty or all-NA entries is deprecated. In a future version, this will no longer exclude empty or all-NA columns when determining the result dtypes. To retain the old behavior, exclude the relevant entries before the concat operation.\n",
      "  total_prop = pd.concat([total_prop, curr_cell_prop_df])\n",
      "/Users/davidnat/Documents/projects/greenelab/buddi/buddi/preprocessing/sc_preprocess.py:254: FutureWarning: The behavior of DataFrame concatenation with empty or all-NA entries is deprecated. In a future version, this will no longer exclude empty or all-NA columns when determining the result dtypes. To retain the old behavior, exclude the relevant entries before the concat operation.\n",
      "  total_prop = pd.concat([total_prop, props])\n",
      "/Users/davidnat/Documents/projects/greenelab/buddi/buddi/preprocessing/sc_preprocess.py:254: FutureWarning: The behavior of DataFrame concatenation with empty or all-NA entries is deprecated. In a future version, this will no longer exclude empty or all-NA columns when determining the result dtypes. To retain the old behavior, exclude the relevant entries before the concat operation.\n",
      "  total_prop = pd.concat([total_prop, props])\n"
     ]
    },
    {
     "name": "stdout",
     "output_type": "stream",
     "text": [
      "100\n",
      "200\n",
      "concat\n",
      "write\n",
      "running Samp_2497 CTRL Train\n",
      "make_prop_and_sum\n",
      "0\n",
      "100\n",
      "200\n",
      "300\n",
      "400\n",
      "500\n",
      "600\n",
      "700\n",
      "800\n",
      "900\n",
      "1000\n",
      "get_single_celltype_prop_matrix\n",
      "use_prop_make_sum\n",
      "0\n"
     ]
    },
    {
     "name": "stderr",
     "output_type": "stream",
     "text": [
      "/Users/davidnat/Documents/projects/greenelab/buddi/buddi/preprocessing/sc_preprocess.py:254: FutureWarning: The behavior of DataFrame concatenation with empty or all-NA entries is deprecated. In a future version, this will no longer exclude empty or all-NA columns when determining the result dtypes. To retain the old behavior, exclude the relevant entries before the concat operation.\n",
      "  total_prop = pd.concat([total_prop, props])\n",
      "/Users/davidnat/Documents/projects/greenelab/buddi/buddi/preprocessing/sc_preprocess.py:209: FutureWarning: The behavior of DataFrame concatenation with empty or all-NA entries is deprecated. In a future version, this will no longer exclude empty or all-NA columns when determining the result dtypes. To retain the old behavior, exclude the relevant entries before the concat operation.\n",
      "  total_prop = pd.concat([total_prop, curr_cell_prop_df])\n",
      "/Users/davidnat/Documents/projects/greenelab/buddi/buddi/preprocessing/sc_preprocess.py:254: FutureWarning: The behavior of DataFrame concatenation with empty or all-NA entries is deprecated. In a future version, this will no longer exclude empty or all-NA columns when determining the result dtypes. To retain the old behavior, exclude the relevant entries before the concat operation.\n",
      "  total_prop = pd.concat([total_prop, props])\n",
      "/Users/davidnat/Documents/projects/greenelab/buddi/buddi/preprocessing/sc_preprocess.py:254: FutureWarning: The behavior of DataFrame concatenation with empty or all-NA entries is deprecated. In a future version, this will no longer exclude empty or all-NA columns when determining the result dtypes. To retain the old behavior, exclude the relevant entries before the concat operation.\n",
      "  total_prop = pd.concat([total_prop, props])\n"
     ]
    },
    {
     "name": "stdout",
     "output_type": "stream",
     "text": [
      "100\n",
      "200\n",
      "concat\n",
      "write\n"
     ]
    }
   ],
   "source": [
    "# write out the gene ids\n",
    "gene_pass = adata.var['gene_ids']\n",
    "gene_out_file = os.path.join(aug_data_path, f\"{res_name}_genes.pkl\")\n",
    "gene_out_path = Path(gene_out_file)\n",
    "pickle.dump( gene_pass, open( gene_out_path, \"wb\" ) )\n",
    "\n",
    "# metadata\n",
    "sample_order = ['Samp_2251', 'Samp_2293', 'Samp_2380', 'Samp_2467', 'Samp_2497']\n",
    "\n",
    "stim_order = ['CTRL']\n",
    "train_order = ['Train']\n",
    "\n",
    "# now generate all the proportions\n",
    "total_meta_df = pd.DataFrame(columns = [\"sample_id\", \"stim\", \"isTraining\"])\n",
    "\n",
    "# no cell noise \n",
    "len_vector = adata.obs[\"scpred_CellType\"].unique().shape[0]\n",
    "cell_noise = [np.random.lognormal(0, 0, adata.var['gene_ids'].shape[0]) for i in range(len_vector)]\n",
    "\n",
    "# cell type order\n",
    "cell_order = adata.obs.scpred_CellType.unique()\n",
    "\n",
    "# simulate different number of cells\n",
    "num_cells = 200 \n",
    "idx = 0\n",
    "for curr_samp in sample_order:\n",
    "  for curr_stim in stim_order:\n",
    "      for curr_train in train_order:\n",
    "\n",
    "        print(f\"running {curr_samp} {curr_stim} {curr_train}\")\n",
    "\n",
    "\n",
    "        # make the pseudobulks\n",
    "        subset_idx = np.logical_and(adata.obs.sample_id == curr_samp, adata.obs.stim == curr_stim)\n",
    "        subset_idx = np.where(np.logical_and(subset_idx, adata.obs.isTraining == curr_train))[0]\n",
    "        if len(subset_idx) == 0:\n",
    "            continue\n",
    "        \n",
    "        temp_adata = adata[subset_idx]\n",
    "\n",
    "        print(\"make_prop_and_sum\")\n",
    "        prop_df, pseudobulks_df, test_prop_df, test_pseudobulks_df = sc_preprocess.make_prop_and_sum(temp_adata, \n",
    "                                                                                num_samples=1000, \n",
    "                                                                                num_cells=num_cells,\n",
    "                                                                                use_true_prop=False,\n",
    "                                                                                cell_noise=cell_noise,\n",
    "                                                                                useSampleNoise=False)\n",
    "        # number of random pseudobulks\n",
    "        num_rand_pseudo = pseudobulks_df.shape[0] \n",
    "\n",
    "        # get the single cell type proportions\n",
    "        print(\"get_single_celltype_prop_matrix\")\n",
    "        ct_prop_df = sc_preprocess.get_single_celltype_prop_matrix(num_samp=100, # 100\n",
    "                                                                    cell_order=cell_order)\n",
    "\n",
    "        # now get the cell-type specific pseudobulks\n",
    "        print(\"use_prop_make_sum\")\n",
    "        prop_df_sc, pseudobulks_df_sc, _ = sc_preprocess.use_prop_make_sum(temp_adata,  \n",
    "                                                                            num_cells=num_cells, \n",
    "                                                                            props_vec=ct_prop_df, \n",
    "                                                                            cell_noise=cell_noise,\n",
    "                                                                            sample_noise=None,\n",
    "                                                                            useSampleNoise=False)\n",
    "        # number of random pseudobulks\n",
    "        num_ct_pseudo = pseudobulks_df_sc.shape[0] \n",
    "\n",
    "\n",
    "        # put them together\n",
    "        print(\"concat\")        \n",
    "        prop_df = pd.concat([prop_df,prop_df_sc])\n",
    "        pseudobulks_df = pd.concat([pseudobulks_df, pseudobulks_df_sc])\n",
    "\n",
    "        # make the metadata\n",
    "        num_samps = pseudobulks_df.shape[0] \n",
    "        samp_type = [\"bulk\"]*num_samps\n",
    "        cell_prop_type = [\"random\"]*num_rand_pseudo+[\"cell_type_specific\"]*num_ct_pseudo \n",
    "        samp_type = [\"sc_ref\"]*(num_rand_pseudo+num_ct_pseudo)\n",
    "        \n",
    "        metadata_df = pd.DataFrame(data = {\"sample_id\":[curr_samp]*num_samps, \n",
    "                                          \"stim\":[curr_stim]*num_samps,\n",
    "                                          \"isTraining\":[curr_train]*num_samps,\n",
    "                                          \"cell_prop_type\":cell_prop_type,\n",
    "                                          \"samp_type\":samp_type,})\n",
    "\n",
    "        # make the proportions instead of cell counts\n",
    "        prop_df = prop_df.div(prop_df.sum(axis=1), axis=0)\n",
    "        pseudobulk_file = os.path.join(aug_data_path, f\"{res_name}_{curr_samp}_{curr_stim}_{curr_train}_pseudo_splits.pkl\")\n",
    "        prop_file = os.path.join(aug_data_path, f\"{res_name}_{curr_samp}_{curr_stim}_{curr_train}_prop_splits.pkl\")\n",
    "        meta_file = os.path.join(aug_data_path, f\"{res_name}_{curr_samp}_{curr_stim}_{curr_train}_meta_splits.pkl\")\n",
    "\n",
    "        print(\"write\")        \n",
    "        pseudobulk_path = Path(pseudobulk_file)\n",
    "        prop_path = Path(prop_file)\n",
    "        meta_path = Path(meta_file)\n",
    "        pickle.dump( prop_df, open( prop_path, \"wb\" ) )\n",
    "        pickle.dump( pseudobulks_df, open( pseudobulk_path, \"wb\" ) )\n",
    "        pickle.dump( metadata_df, open( meta_path, \"wb\" ) )\n",
    "\n",
    "\n",
    "\n"
   ]
  }
 ],
 "metadata": {
  "kernelspec": {
   "display_name": ".prop_subtype_venv",
   "language": "python",
   "name": "python3"
  },
  "language_info": {
   "codemirror_mode": {
    "name": "ipython",
    "version": 3
   },
   "file_extension": ".py",
   "mimetype": "text/x-python",
   "name": "python",
   "nbconvert_exporter": "python",
   "pygments_lexer": "ipython3",
   "version": "3.12.7"
  },
  "orig_nbformat": 4
 },
 "nbformat": 4,
 "nbformat_minor": 2
}
